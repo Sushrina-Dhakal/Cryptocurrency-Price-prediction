{
 "cells": [
  {
   "cell_type": "code",
   "execution_count": 1,
   "id": "fdd467af-3c19-4e55-874a-87d7580a7409",
   "metadata": {},
   "outputs": [
    {
     "name": "stdout",
     "output_type": "stream",
     "text": [
      "WARNING:tensorflow:From C:\\Users\\Shreenav Dhakal\\AppData\\Local\\Programs\\Python\\Python311\\Lib\\site-packages\\keras\\src\\losses.py:2976: The name tf.losses.sparse_softmax_cross_entropy is deprecated. Please use tf.compat.v1.losses.sparse_softmax_cross_entropy instead.\n",
      "\n"
     ]
    }
   ],
   "source": [
    "import numpy as np\n",
    "import pandas as pd\n",
    "import yfinance as yf\n",
    "from sklearn.preprocessing import MinMaxScaler\n",
    "from sklearn.metrics import mean_squared_error\n",
    "from tensorflow.keras.models import Sequential\n",
    "from tensorflow.keras.layers import LSTM, Dense\n",
    "from tensorflow.keras.callbacks import EarlyStopping, ModelCheckpoint\n",
    "import matplotlib.pyplot as plt\n",
    "import tensorflow.keras as keras"
   ]
  },
  {
   "cell_type": "code",
   "execution_count": 2,
   "id": "0f418734-2041-4053-bc43-5af1bbee30de",
   "metadata": {
    "tags": []
   },
   "outputs": [],
   "source": [
    "def download_data(symbol, start_date, end_date):\n",
    "    df = yf.download(symbol, start=start_date, end=end_date)\n",
    "    return df"
   ]
  },
  {
   "cell_type": "code",
   "execution_count": 3,
   "id": "4c16bb0f-5263-4d8f-9c18-0353168be502",
   "metadata": {
    "tags": []
   },
   "outputs": [],
   "source": [
    "def prepare_data(df, sequence_length):\n",
    "    data = df.filter(['Close'])\n",
    "    df = df.dropna()\n",
    "    df = df[~df.index.duplicated(keep='last')]\n",
    "    df = df.values\n",
    "    scaler = MinMaxScaler(feature_range=(0, 1))\n",
    "    scaled_data = scaler.fit_transform(data)\n",
    "\n",
    "    X, y = [], []\n",
    "\n",
    "    for i in range(sequence_length, len(scaled_data)):\n",
    "        X.append(scaled_data[i-sequence_length:i, 0])\n",
    "        y.append(scaled_data[i, 0])\n",
    "\n",
    "    X, y = np.array(X), np.array(y)\n",
    "    X = np.reshape(X, (X.shape[0], X.shape[1], 1))\n",
    "    \n",
    "    split_index = int(len(scaled_data) * 0.8)\n",
    "    \n",
    "    X_train, X_test = X[:split_index], X[split_index:]\n",
    "    y_train, y_test = y[:split_index], y[split_index:]\n",
    "    \n",
    "    \n",
    "    return X_train, X_test, y_train, y_test, scaler\n"
   ]
  },
  {
   "cell_type": "code",
   "execution_count": 4,
   "id": "dd53ab4a-dc91-4d4d-b635-f530e36cfbe0",
   "metadata": {
    "tags": []
   },
   "outputs": [],
   "source": [
    "def build_lstm_model(X_train, units=50, layers=2, activation='tanh', optimizer='adam'):\n",
    "    model = Sequential()\n",
    "    model.add(LSTM(units, return_sequences=True, input_shape=(X_train.shape[1], 1)))\n",
    "    for _ in range(layers - 1):\n",
    "        model.add(LSTM(units, return_sequences=True))\n",
    "    model.add(LSTM(units*2))\n",
    "    model.add(Dense(25, activation=activation))\n",
    "    model.add(Dense(1))\n",
    "    model.compile(optimizer=optimizer, loss='mse')\n",
    "    return model"
   ]
  },
  {
   "cell_type": "code",
   "execution_count": 6,
   "id": "1cee4d71-cd97-4117-9197-ece3e4cc9b00",
   "metadata": {
    "tags": []
   },
   "outputs": [],
   "source": [
    "def train_model_and_evaluate_model(model, X_train, y_train, X_test, y_test, scaler, epochs, batch_size, sequence_length, units, layers):\n",
    "    \n",
    "    loss_history = keras.callbacks.History()\n",
    "    \n",
    "    early_stopping = EarlyStopping(monitor='val_loss', patience=15, restore_best_weights=True)\n",
    "    model_checkpoint = ModelCheckpoint(f'model_{epochs}_{batch_size}_{sequence_length}_{units}_{layers}.h5', monitor='val_loss', save_best_only=True)\n",
    "    model.fit(X_train, y_train, batch_size=batch_size, epochs=epochs, validation_split=0.1, callbacks=[early_stopping, model_checkpoint, loss_history])\n",
    "\n",
    "    lstm_loss_history = loss_history.history['loss']\n",
    "    \n",
    "    lstm_predictions = model.predict(X_test)\n",
    "    lstm_predictions = scaler.inverse_transform(lstm_predictions)\n",
    "    \n",
    "    y_test = y_test.reshape(-1,1)\n",
    "    y_test = scaler.inverse_transform(y_test)\n",
    "    \n",
    "    plt.plot(y_test, label='Actual')\n",
    "    plt.plot(lstm_predictions, label='Predicted')\n",
    "    plt.title('Actual vs Predicted Prices')\n",
    "    plt.xlabel('Time')\n",
    "    plt.ylabel('Price')\n",
    "    plt.legend()\n",
    "    plt.savefig(f'Ethereum_actual_vs_predicted_{epochs}_{batch_size}_{sequence_length}_{units}_{layers}.png')\n",
    "    plt.close()\n",
    "    \n",
    "    rmse = np.sqrt(mean_squared_error(y_test, lstm_predictions))\n",
    "    print(f\"Root Mean Squared Error (Testing Dataset): {rmse}\")\n",
    "    \n",
    "    plt.figure(figsize=(10, 6))\n",
    "    plt.plot(loss_history.history['loss'], label='Training Loss')\n",
    "    plt.plot(loss_history.history['val_loss'], label='Validation Loss')\n",
    "    plt.title('Epoch Loss Curve')\n",
    "    plt.xlabel('Epoch')\n",
    "    plt.ylabel('Loss')\n",
    "    plt.legend()\n",
    "    plt.savefig(f'Ethereum_loss_curve_{epochs}_{batch_size}_{sequence_length}_{units}_{layers}.png')\n",
    "    plt.close()\n",
    "    \n",
    "    return model, rmse\n"
   ]
  },
  {
   "cell_type": "code",
   "execution_count": 7,
   "id": "02c5572f-1e3c-43e3-a2b1-65813b1a8698",
   "metadata": {
    "tags": []
   },
   "outputs": [],
   "source": [
    "symbol = 'ETH-USD'\n",
    "start_date = '2020-01-01'\n",
    "end_date = '2024-01-31'"
   ]
  },
  {
   "cell_type": "code",
   "execution_count": 11,
   "id": "1640ca26-3c40-45b4-b61d-69fdbcbc2363",
   "metadata": {
    "tags": []
   },
   "outputs": [],
   "source": [
    "epochs = 100\n",
    "batch_size = 4\n",
    "sequence_length = 25\n",
    "units = 50\n",
    "layers = 2"
   ]
  },
  {
   "cell_type": "code",
   "execution_count": 12,
   "id": "91a2623a-1dd8-4488-b9f4-002b8e977011",
   "metadata": {
    "tags": []
   },
   "outputs": [
    {
     "name": "stderr",
     "output_type": "stream",
     "text": [
      "[*********************100%%**********************]  1 of 1 completed\n"
     ]
    }
   ],
   "source": [
    "df = download_data(symbol, start_date, end_date)"
   ]
  },
  {
   "cell_type": "code",
   "execution_count": 13,
   "id": "07ce56c6-6c90-451a-91d8-ecbf9a32c721",
   "metadata": {
    "tags": []
   },
   "outputs": [
    {
     "name": "stdout",
     "output_type": "stream",
     "text": [
      "Training model with epochs=100, batch_size=4, sequence_length=25, units=50, layers=2\n",
      "Epoch 1/100\n",
      "268/268 [==============================] - 23s 41ms/step - loss: 0.0071 - val_loss: 0.0043\n",
      "Epoch 2/100\n",
      "  4/268 [..............................] - ETA: 6s - loss: 0.0029"
     ]
    },
    {
     "name": "stderr",
     "output_type": "stream",
     "text": [
      "C:\\Users\\Shreenav Dhakal\\AppData\\Local\\Programs\\Python\\Python311\\Lib\\site-packages\\keras\\src\\engine\\training.py:3103: UserWarning: You are saving your model as an HDF5 file via `model.save()`. This file format is considered legacy. We recommend using instead the native Keras format, e.g. `model.save('my_model.keras')`.\n",
      "  saving_api.save_model(\n"
     ]
    },
    {
     "name": "stdout",
     "output_type": "stream",
     "text": [
      "268/268 [==============================] - 8s 29ms/step - loss: 0.0030 - val_loss: 3.9234e-04\n",
      "Epoch 3/100\n",
      "268/268 [==============================] - 8s 29ms/step - loss: 0.0021 - val_loss: 3.0869e-04\n",
      "Epoch 4/100\n",
      "268/268 [==============================] - 8s 28ms/step - loss: 0.0015 - val_loss: 5.2065e-04\n",
      "Epoch 5/100\n",
      "268/268 [==============================] - 8s 28ms/step - loss: 0.0012 - val_loss: 2.6246e-04\n",
      "Epoch 6/100\n",
      "268/268 [==============================] - 8s 29ms/step - loss: 0.0013 - val_loss: 5.9798e-04\n",
      "Epoch 7/100\n",
      "268/268 [==============================] - 8s 29ms/step - loss: 9.6432e-04 - val_loss: 1.7301e-04\n",
      "Epoch 8/100\n",
      "268/268 [==============================] - 8s 30ms/step - loss: 8.0683e-04 - val_loss: 1.6549e-04\n",
      "Epoch 9/100\n",
      "268/268 [==============================] - 8s 31ms/step - loss: 9.3030e-04 - val_loss: 1.3194e-04\n",
      "Epoch 10/100\n",
      "268/268 [==============================] - 8s 29ms/step - loss: 9.1233e-04 - val_loss: 1.6797e-04\n",
      "Epoch 11/100\n",
      "268/268 [==============================] - 8s 30ms/step - loss: 7.6499e-04 - val_loss: 1.2829e-04\n",
      "Epoch 12/100\n",
      "268/268 [==============================] - 8s 30ms/step - loss: 8.4351e-04 - val_loss: 6.6257e-04\n",
      "Epoch 13/100\n",
      "268/268 [==============================] - 8s 30ms/step - loss: 7.6362e-04 - val_loss: 4.7592e-04\n",
      "Epoch 14/100\n",
      "268/268 [==============================] - 8s 31ms/step - loss: 6.8291e-04 - val_loss: 2.0154e-04\n",
      "Epoch 15/100\n",
      "268/268 [==============================] - 8s 31ms/step - loss: 7.1178e-04 - val_loss: 1.2272e-04\n",
      "Epoch 16/100\n",
      "268/268 [==============================] - 8s 30ms/step - loss: 8.3209e-04 - val_loss: 1.2501e-04\n",
      "Epoch 17/100\n",
      "268/268 [==============================] - 8s 29ms/step - loss: 7.2038e-04 - val_loss: 5.0933e-04\n",
      "Epoch 18/100\n",
      "268/268 [==============================] - 8s 29ms/step - loss: 7.4177e-04 - val_loss: 1.4519e-04\n",
      "Epoch 19/100\n",
      "268/268 [==============================] - 8s 29ms/step - loss: 8.4449e-04 - val_loss: 2.9030e-04\n",
      "Epoch 20/100\n",
      "268/268 [==============================] - 8s 29ms/step - loss: 7.5031e-04 - val_loss: 3.2585e-04\n",
      "Epoch 21/100\n",
      "268/268 [==============================] - 8s 29ms/step - loss: 6.7088e-04 - val_loss: 2.1242e-04\n",
      "Epoch 22/100\n",
      "268/268 [==============================] - 8s 30ms/step - loss: 7.2536e-04 - val_loss: 1.1985e-04\n",
      "Epoch 23/100\n",
      "268/268 [==============================] - 8s 30ms/step - loss: 8.4482e-04 - val_loss: 2.7422e-04\n",
      "Epoch 24/100\n",
      "268/268 [==============================] - 8s 30ms/step - loss: 6.9637e-04 - val_loss: 4.0227e-04\n",
      "Epoch 25/100\n",
      "268/268 [==============================] - 8s 29ms/step - loss: 6.3561e-04 - val_loss: 3.8480e-04\n",
      "Epoch 26/100\n",
      "268/268 [==============================] - 8s 30ms/step - loss: 7.0717e-04 - val_loss: 1.5359e-04\n",
      "Epoch 27/100\n",
      "268/268 [==============================] - 8s 29ms/step - loss: 6.7163e-04 - val_loss: 3.2317e-04\n",
      "Epoch 28/100\n",
      "268/268 [==============================] - 8s 30ms/step - loss: 6.0734e-04 - val_loss: 1.0507e-04\n",
      "Epoch 29/100\n",
      "268/268 [==============================] - 8s 31ms/step - loss: 6.0815e-04 - val_loss: 1.1029e-04\n",
      "Epoch 30/100\n",
      "268/268 [==============================] - 8s 30ms/step - loss: 5.8684e-04 - val_loss: 1.7483e-04\n",
      "Epoch 31/100\n",
      "268/268 [==============================] - 8s 29ms/step - loss: 6.7012e-04 - val_loss: 2.6974e-04\n",
      "Epoch 32/100\n",
      "268/268 [==============================] - 8s 30ms/step - loss: 6.4704e-04 - val_loss: 1.0234e-04\n",
      "Epoch 33/100\n",
      "268/268 [==============================] - 8s 31ms/step - loss: 7.5890e-04 - val_loss: 2.0228e-04\n",
      "Epoch 34/100\n",
      "268/268 [==============================] - 8s 29ms/step - loss: 6.8075e-04 - val_loss: 1.0428e-04\n",
      "Epoch 35/100\n",
      "268/268 [==============================] - 8s 29ms/step - loss: 6.1700e-04 - val_loss: 1.1383e-04\n",
      "Epoch 36/100\n",
      "268/268 [==============================] - 8s 30ms/step - loss: 5.9557e-04 - val_loss: 1.0684e-04\n",
      "Epoch 37/100\n",
      "268/268 [==============================] - 8s 32ms/step - loss: 6.1759e-04 - val_loss: 3.9191e-04\n",
      "Epoch 38/100\n",
      "268/268 [==============================] - 8s 29ms/step - loss: 6.0991e-04 - val_loss: 1.2396e-04\n",
      "Epoch 39/100\n",
      "268/268 [==============================] - 8s 29ms/step - loss: 6.0442e-04 - val_loss: 1.0651e-04\n",
      "Epoch 40/100\n",
      "268/268 [==============================] - 8s 31ms/step - loss: 5.7839e-04 - val_loss: 1.1453e-04\n",
      "Epoch 41/100\n",
      "268/268 [==============================] - 8s 30ms/step - loss: 6.2246e-04 - val_loss: 9.7909e-05\n",
      "Epoch 42/100\n",
      "268/268 [==============================] - 8s 29ms/step - loss: 6.8687e-04 - val_loss: 1.2238e-04\n",
      "Epoch 43/100\n",
      "268/268 [==============================] - 8s 30ms/step - loss: 5.7890e-04 - val_loss: 7.7698e-04\n",
      "Epoch 44/100\n",
      "268/268 [==============================] - 8s 30ms/step - loss: 7.2829e-04 - val_loss: 1.1274e-04\n",
      "Epoch 45/100\n",
      "268/268 [==============================] - 8s 30ms/step - loss: 6.4881e-04 - val_loss: 2.3953e-04\n",
      "Epoch 46/100\n",
      "268/268 [==============================] - 8s 30ms/step - loss: 6.3369e-04 - val_loss: 1.0579e-04\n",
      "Epoch 47/100\n",
      "268/268 [==============================] - 8s 30ms/step - loss: 5.5994e-04 - val_loss: 2.0444e-04\n",
      "Epoch 48/100\n",
      "268/268 [==============================] - 8s 30ms/step - loss: 5.9015e-04 - val_loss: 2.2386e-04\n",
      "Epoch 49/100\n",
      "268/268 [==============================] - 8s 30ms/step - loss: 6.4810e-04 - val_loss: 1.5161e-04\n",
      "Epoch 50/100\n",
      "268/268 [==============================] - 8s 31ms/step - loss: 5.5652e-04 - val_loss: 1.0125e-04\n",
      "Epoch 51/100\n",
      "268/268 [==============================] - 9s 33ms/step - loss: 6.0832e-04 - val_loss: 2.4689e-04\n",
      "Epoch 52/100\n",
      "268/268 [==============================] - 9s 35ms/step - loss: 6.3075e-04 - val_loss: 1.5492e-04\n",
      "Epoch 53/100\n",
      "268/268 [==============================] - 9s 33ms/step - loss: 5.9841e-04 - val_loss: 1.3178e-04\n",
      "Epoch 54/100\n",
      "268/268 [==============================] - 9s 34ms/step - loss: 5.8247e-04 - val_loss: 1.1232e-04\n",
      "Epoch 55/100\n",
      "268/268 [==============================] - 9s 32ms/step - loss: 5.9170e-04 - val_loss: 1.4018e-04\n",
      "Epoch 56/100\n",
      "268/268 [==============================] - 8s 31ms/step - loss: 6.6640e-04 - val_loss: 1.5964e-04\n",
      "9/9 [==============================] - 4s 18ms/step\n",
      "Root Mean Squared Error (Testing Dataset): 47.83943865651388\n"
     ]
    }
   ],
   "source": [
    "print(f\"Training model with epochs={epochs}, batch_size={batch_size}, sequence_length={sequence_length}, units={units}, layers={layers}\")\n",
    "X_train, X_test, y_train, y_test, scaler = prepare_data(df, sequence_length)\n",
    "model = build_lstm_model(X_train, units=units, layers=layers)\n",
    "model, rmse = train_model_and_evaluate_model(model, X_train, y_train, X_test, y_test, scaler, epochs, batch_size, sequence_length, units, layers)"
   ]
  },
  {
   "cell_type": "code",
   "execution_count": 14,
   "id": "203d6ae6-c38f-4e51-be85-0c803cd386d8",
   "metadata": {
    "tags": []
   },
   "outputs": [
    {
     "name": "stdout",
     "output_type": "stream",
     "text": [
      "9/9 [==============================] - 0s 19ms/step\n"
     ]
    }
   ],
   "source": [
    "y_pred = model.predict(X_test)"
   ]
  },
  {
   "cell_type": "code",
   "execution_count": 18,
   "id": "8f02c836-3f8d-4ee4-bda5-485e9452366c",
   "metadata": {
    "tags": []
   },
   "outputs": [],
   "source": [
    "y_pred = y_pred.reshape(1,-1)\n",
    "y_test = y_test.reshape(1,-1)\n",
    "y_pred_scaled = scaler.inverse_transform(y_pred)\n",
    "y_test_scaled = scaler.inverse_transform(y_test)"
   ]
  },
  {
   "cell_type": "code",
   "execution_count": 19,
   "id": "ded421ef-80ce-4533-bcdc-6039885d3743",
   "metadata": {
    "tags": []
   },
   "outputs": [],
   "source": [
    "def calculate_mape(y_true, y_pred):\n",
    "    return np.mean(np.abs((y_true - y_pred) / y_true)) * 100"
   ]
  },
  {
   "cell_type": "code",
   "execution_count": 20,
   "id": "4c824873-1e59-44ff-96f1-6eb1b59d2bc3",
   "metadata": {
    "tags": []
   },
   "outputs": [
    {
     "data": {
      "text/plain": [
       "1.6174961642144035"
      ]
     },
     "execution_count": 20,
     "metadata": {},
     "output_type": "execute_result"
    }
   ],
   "source": [
    "calculate_mape(y_test_scaled, y_pred_scaled)"
   ]
  },
  {
   "cell_type": "code",
   "execution_count": 21,
   "id": "536ef7bd-4c06-40d6-a920-7c7f081cc194",
   "metadata": {
    "tags": []
   },
   "outputs": [
    {
     "data": {
      "text/plain": [
       "47.83943865651388"
      ]
     },
     "execution_count": 21,
     "metadata": {},
     "output_type": "execute_result"
    }
   ],
   "source": [
    "np.sqrt(mean_squared_error(y_test_scaled, y_pred_scaled))"
   ]
  },
  {
   "cell_type": "code",
   "execution_count": 25,
   "id": "f87eb6fb-40a9-4688-acd2-d5637db93cf3",
   "metadata": {
    "tags": []
   },
   "outputs": [
    {
     "data": {
      "text/html": [
       "<div>\n",
       "<style scoped>\n",
       "    .dataframe tbody tr th:only-of-type {\n",
       "        vertical-align: middle;\n",
       "    }\n",
       "\n",
       "    .dataframe tbody tr th {\n",
       "        vertical-align: top;\n",
       "    }\n",
       "\n",
       "    .dataframe thead th {\n",
       "        text-align: right;\n",
       "    }\n",
       "</style>\n",
       "<table border=\"1\" class=\"dataframe\">\n",
       "  <thead>\n",
       "    <tr style=\"text-align: right;\">\n",
       "      <th></th>\n",
       "      <th>actual</th>\n",
       "      <th>predicted</th>\n",
       "    </tr>\n",
       "  </thead>\n",
       "  <tbody>\n",
       "    <tr>\n",
       "      <th>0</th>\n",
       "      <td>1870.789307</td>\n",
       "      <td>1836.940063</td>\n",
       "    </tr>\n",
       "    <tr>\n",
       "      <th>1</th>\n",
       "      <td>1904.651855</td>\n",
       "      <td>1869.908569</td>\n",
       "    </tr>\n",
       "    <tr>\n",
       "      <th>2</th>\n",
       "      <td>1877.704102</td>\n",
       "      <td>1904.427490</td>\n",
       "    </tr>\n",
       "    <tr>\n",
       "      <th>3</th>\n",
       "      <td>1995.060913</td>\n",
       "      <td>1881.620483</td>\n",
       "    </tr>\n",
       "    <tr>\n",
       "      <th>4</th>\n",
       "      <td>1900.221802</td>\n",
       "      <td>1985.485352</td>\n",
       "    </tr>\n",
       "  </tbody>\n",
       "</table>\n",
       "</div>"
      ],
      "text/plain": [
       "        actual    predicted\n",
       "0  1870.789307  1836.940063\n",
       "1  1904.651855  1869.908569\n",
       "2  1877.704102  1904.427490\n",
       "3  1995.060913  1881.620483\n",
       "4  1900.221802  1985.485352"
      ]
     },
     "execution_count": 25,
     "metadata": {},
     "output_type": "execute_result"
    }
   ],
   "source": [
    "pd.DataFrame({'actual':y_test_scaled.flatten(), 'predicted':y_pred_scaled.flatten()}).head()"
   ]
  },
  {
   "cell_type": "code",
   "execution_count": 26,
   "id": "02b2d227-adc6-486f-8ce7-8ee4a69fdb25",
   "metadata": {
    "tags": []
   },
   "outputs": [],
   "source": [
    "import joblib"
   ]
  },
  {
   "cell_type": "code",
   "execution_count": 27,
   "id": "0f300ee3-327e-4885-be58-d4ab15ee757b",
   "metadata": {
    "tags": []
   },
   "outputs": [
    {
     "data": {
      "text/plain": [
       "['Ethereum_model.pkl']"
      ]
     },
     "execution_count": 27,
     "metadata": {},
     "output_type": "execute_result"
    }
   ],
   "source": [
    "joblib.dump(model, \"Ethereum_model.pkl\")"
   ]
  },
  {
   "cell_type": "code",
   "execution_count": null,
   "id": "538b7aae-7db7-493f-b586-703dd393cd1d",
   "metadata": {},
   "outputs": [],
   "source": []
  }
 ],
 "metadata": {
  "kernelspec": {
   "display_name": "Python 3 (ipykernel)",
   "language": "python",
   "name": "python3"
  },
  "language_info": {
   "codemirror_mode": {
    "name": "ipython",
    "version": 3
   },
   "file_extension": ".py",
   "mimetype": "text/x-python",
   "name": "python",
   "nbconvert_exporter": "python",
   "pygments_lexer": "ipython3",
   "version": "3.11.0"
  }
 },
 "nbformat": 4,
 "nbformat_minor": 5
}
