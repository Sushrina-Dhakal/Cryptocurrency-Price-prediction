{
 "cells": [
  {
   "cell_type": "code",
   "execution_count": 1,
   "id": "c09a3ac0-e2b6-482c-bd0a-2fc1285dfbf7",
   "metadata": {},
   "outputs": [
    {
     "name": "stdout",
     "output_type": "stream",
     "text": [
      "WARNING:tensorflow:From C:\\Users\\Shreenav Dhakal\\AppData\\Local\\Programs\\Python\\Python311\\Lib\\site-packages\\keras\\src\\losses.py:2976: The name tf.losses.sparse_softmax_cross_entropy is deprecated. Please use tf.compat.v1.losses.sparse_softmax_cross_entropy instead.\n",
      "\n"
     ]
    }
   ],
   "source": [
    "import numpy as np\n",
    "import pandas as pd\n",
    "import yfinance as yf\n",
    "from sklearn.preprocessing import MinMaxScaler\n",
    "from sklearn.metrics import mean_squared_error\n",
    "from tensorflow.keras.models import Sequential\n",
    "from tensorflow.keras.layers import LSTM, Dense\n",
    "from tensorflow.keras.callbacks import EarlyStopping, ModelCheckpoint\n",
    "import matplotlib.pyplot as plt\n",
    "import tensorflow.keras as keras"
   ]
  },
  {
   "cell_type": "code",
   "execution_count": 2,
   "id": "3dda334b-0b1b-4758-b70e-ab17bd15946d",
   "metadata": {
    "tags": []
   },
   "outputs": [],
   "source": [
    "def download_data(symbol, start_date, end_date):\n",
    "    df = yf.download(symbol, start=start_date, end=end_date)\n",
    "    return df"
   ]
  },
  {
   "cell_type": "code",
   "execution_count": 14,
   "id": "5e816b10-1dae-4137-9182-77f70d86a474",
   "metadata": {
    "tags": []
   },
   "outputs": [],
   "source": [
    "def prepare_data(df, sequence_length):\n",
    "    data = df.filter(['Close'])\n",
    "    df = df.dropna()\n",
    "    df = df[~df.index.duplicated(keep='last')]\n",
    "    df = df.values\n",
    "    scaler = MinMaxScaler(feature_range=(0, 1))\n",
    "    scaled_data = scaler.fit_transform(data)\n",
    "\n",
    "    X, y = [], []\n",
    "\n",
    "    for i in range(sequence_length, len(scaled_data)):\n",
    "        X.append(scaled_data[i-sequence_length:i, 0])\n",
    "        y.append(scaled_data[i, 0])\n",
    "\n",
    "    X, y = np.array(X), np.array(y)\n",
    "    X = np.reshape(X, (X.shape[0], X.shape[1], 1))\n",
    "    \n",
    "    split_index = int(len(scaled_data) * 0.8)\n",
    "    \n",
    "    X_train, X_test = X[:split_index], X[split_index:]\n",
    "    y_train, y_test = y[:split_index], y[split_index:]\n",
    "    \n",
    "    \n",
    "    return X_train, X_test, y_train, y_test, scaler\n"
   ]
  },
  {
   "cell_type": "code",
   "execution_count": 13,
   "id": "2f861cd5-3b0a-4618-9055-5bac3bd3d741",
   "metadata": {
    "tags": []
   },
   "outputs": [],
   "source": [
    "def build_lstm_model(X_train, units=50, layers=2, activation='tanh', optimizer='adam'):\n",
    "    model = Sequential()\n",
    "    model.add(LSTM(units, return_sequences=True, input_shape=(X_train.shape[1], 1)))\n",
    "    for _ in range(layers - 1):\n",
    "        model.add(LSTM(units, return_sequences=True))\n",
    "    model.add(LSTM(units*2))\n",
    "    model.add(Dense(25, activation=activation))\n",
    "    model.add(Dense(1))\n",
    "    model.compile(optimizer=optimizer, loss='mse')\n",
    "    return model"
   ]
  },
  {
   "cell_type": "code",
   "execution_count": 4,
   "id": "c43f1f62-b0f3-4b40-be9d-d679d781e3ec",
   "metadata": {
    "tags": []
   },
   "outputs": [],
   "source": [
    "def train_model_and_evaluate_model(model, X_train, y_train, X_test, y_test, scaler, epochs, batch_size, sequence_length, units, layers):\n",
    "    \n",
    "    loss_history = keras.callbacks.History()\n",
    "    \n",
    "    early_stopping = EarlyStopping(monitor='val_loss', patience=15, restore_best_weights=True)\n",
    "    model_checkpoint = ModelCheckpoint(f'model_{epochs}_{batch_size}_{sequence_length}_{units}_{layers}.h5', monitor='val_loss', save_best_only=True)\n",
    "    model.fit(X_train, y_train, batch_size=batch_size, epochs=epochs, validation_split=0.1, callbacks=[early_stopping, model_checkpoint, loss_history])\n",
    "\n",
    "    lstm_loss_history = loss_history.history['loss']\n",
    "    \n",
    "    lstm_predictions = model.predict(X_test)\n",
    "    lstm_predictions = scaler.inverse_transform(lstm_predictions)\n",
    "    \n",
    "    y_test = y_test.reshape(-1,1)\n",
    "    y_test = scaler.inverse_transform(y_test)\n",
    "    \n",
    "    plt.plot(y_test, label='Actual')\n",
    "    plt.plot(lstm_predictions, label='Predicted')\n",
    "    plt.title('Actual vs Predicted Prices')\n",
    "    plt.xlabel('Time')\n",
    "    plt.ylabel('Price')\n",
    "    plt.legend()\n",
    "    plt.savefig(f'actual_vs_predicted_{epochs}_{batch_size}_{sequence_length}_{units}_{layers}.png')\n",
    "    plt.close()\n",
    "    \n",
    "    rmse = np.sqrt(mean_squared_error(y_test, lstm_predictions))\n",
    "    print(f\"Root Mean Squared Error (Testing Dataset): {rmse}\")\n",
    "    \n",
    "    plt.figure(figsize=(10, 6))\n",
    "    plt.plot(loss_history.history['loss'], label='Training Loss')\n",
    "    plt.plot(loss_history.history['val_loss'], label='Validation Loss')\n",
    "    plt.title('Epoch Loss Curve')\n",
    "    plt.xlabel('Epoch')\n",
    "    plt.ylabel('Loss')\n",
    "    plt.legend()\n",
    "    plt.savefig(f'loss_curve_{epochs}_{batch_size}_{sequence_length}_{units}_{layers}.png')\n",
    "    plt.close()\n",
    "    \n",
    "    return model, rmse\n"
   ]
  },
  {
   "cell_type": "code",
   "execution_count": 52,
   "id": "2588272b-0d5c-409d-96bf-03d089a30a23",
   "metadata": {
    "tags": []
   },
   "outputs": [],
   "source": [
    "symbol = 'BTC-USD'\n",
    "start_date = '2020-01-01'\n",
    "end_date = '2024-01-01'"
   ]
  },
  {
   "cell_type": "code",
   "execution_count": 53,
   "id": "f0ce5869-f178-4bbd-a761-43e4990c019f",
   "metadata": {
    "tags": []
   },
   "outputs": [],
   "source": [
    "epochs = 100\n",
    "batch_size = 8\n",
    "sequence_length = 25\n",
    "units = 100\n",
    "layers = 2"
   ]
  },
  {
   "cell_type": "code",
   "execution_count": 54,
   "id": "f6a46c17-4ed2-479a-a1ae-ca4b392021ef",
   "metadata": {
    "tags": []
   },
   "outputs": [
    {
     "name": "stderr",
     "output_type": "stream",
     "text": [
      "[*********************100%%**********************]  1 of 1 completed\n"
     ]
    }
   ],
   "source": [
    "df = download_data(symbol, start_date, end_date)"
   ]
  },
  {
   "cell_type": "code",
   "execution_count": 55,
   "id": "47f64c23-08c4-470d-95a7-70a975ed1e9c",
   "metadata": {
    "tags": []
   },
   "outputs": [
    {
     "name": "stdout",
     "output_type": "stream",
     "text": [
      "Training model with epochs=100, batch_size=8, sequence_length=25, units=100, layers=2\n",
      "Epoch 1/100\n",
      "132/132 [==============================] - 15s 56ms/step - loss: 0.0092 - val_loss: 0.0025\n",
      "Epoch 2/100\n",
      "  3/132 [..............................] - ETA: 4s - loss: 0.0127"
     ]
    },
    {
     "name": "stderr",
     "output_type": "stream",
     "text": [
      "C:\\Users\\Shreenav Dhakal\\AppData\\Local\\Programs\\Python\\Python311\\Lib\\site-packages\\keras\\src\\engine\\training.py:3103: UserWarning: You are saving your model as an HDF5 file via `model.save()`. This file format is considered legacy. We recommend using instead the native Keras format, e.g. `model.save('my_model.keras')`.\n",
      "  saving_api.save_model(\n"
     ]
    },
    {
     "name": "stdout",
     "output_type": "stream",
     "text": [
      "132/132 [==============================] - 5s 39ms/step - loss: 0.0038 - val_loss: 0.0017\n",
      "Epoch 3/100\n",
      "132/132 [==============================] - 7s 50ms/step - loss: 0.0025 - val_loss: 3.9796e-04\n",
      "Epoch 4/100\n",
      "132/132 [==============================] - 5s 38ms/step - loss: 0.0015 - val_loss: 3.4746e-04\n",
      "Epoch 5/100\n",
      "132/132 [==============================] - 5s 38ms/step - loss: 0.0013 - val_loss: 2.7829e-04\n",
      "Epoch 6/100\n",
      "132/132 [==============================] - 5s 38ms/step - loss: 0.0011 - val_loss: 2.7500e-04\n",
      "Epoch 7/100\n",
      "132/132 [==============================] - 5s 38ms/step - loss: 0.0012 - val_loss: 2.0294e-04\n",
      "Epoch 8/100\n",
      "132/132 [==============================] - 5s 38ms/step - loss: 8.4323e-04 - val_loss: 1.7813e-04\n",
      "Epoch 9/100\n",
      "132/132 [==============================] - 5s 37ms/step - loss: 6.8421e-04 - val_loss: 3.5531e-04\n",
      "Epoch 10/100\n",
      "132/132 [==============================] - 5s 37ms/step - loss: 7.9329e-04 - val_loss: 2.2820e-04\n",
      "Epoch 11/100\n",
      "132/132 [==============================] - 5s 38ms/step - loss: 8.0144e-04 - val_loss: 2.3646e-04\n",
      "Epoch 12/100\n",
      "132/132 [==============================] - 5s 38ms/step - loss: 6.7528e-04 - val_loss: 1.4558e-04\n",
      "Epoch 13/100\n",
      "132/132 [==============================] - 5s 40ms/step - loss: 7.1418e-04 - val_loss: 9.5251e-04\n",
      "Epoch 14/100\n",
      "132/132 [==============================] - 5s 39ms/step - loss: 7.7648e-04 - val_loss: 2.8811e-04\n",
      "Epoch 15/100\n",
      "132/132 [==============================] - 5s 38ms/step - loss: 6.3693e-04 - val_loss: 1.3083e-04\n",
      "Epoch 16/100\n",
      "132/132 [==============================] - 5s 38ms/step - loss: 7.1315e-04 - val_loss: 1.3521e-04\n",
      "Epoch 17/100\n",
      "132/132 [==============================] - 6s 43ms/step - loss: 5.9813e-04 - val_loss: 1.5120e-04\n",
      "Epoch 18/100\n",
      "132/132 [==============================] - 5s 38ms/step - loss: 6.0811e-04 - val_loss: 2.1413e-04\n",
      "Epoch 19/100\n",
      "132/132 [==============================] - 5s 39ms/step - loss: 6.3701e-04 - val_loss: 1.2023e-04\n",
      "Epoch 20/100\n",
      "132/132 [==============================] - 5s 39ms/step - loss: 6.2717e-04 - val_loss: 2.8125e-04\n",
      "Epoch 21/100\n",
      "132/132 [==============================] - 5s 40ms/step - loss: 8.4949e-04 - val_loss: 1.1628e-04\n",
      "Epoch 22/100\n",
      "132/132 [==============================] - 5s 38ms/step - loss: 6.4496e-04 - val_loss: 1.3421e-04\n",
      "Epoch 23/100\n",
      "132/132 [==============================] - 5s 38ms/step - loss: 5.5826e-04 - val_loss: 1.6682e-04\n",
      "Epoch 24/100\n",
      "132/132 [==============================] - 5s 39ms/step - loss: 5.5925e-04 - val_loss: 1.1654e-04\n",
      "Epoch 25/100\n",
      "132/132 [==============================] - 5s 40ms/step - loss: 5.8673e-04 - val_loss: 1.1037e-04\n",
      "Epoch 26/100\n",
      "132/132 [==============================] - 5s 39ms/step - loss: 6.5342e-04 - val_loss: 1.2555e-04\n",
      "Epoch 27/100\n",
      "132/132 [==============================] - 5s 40ms/step - loss: 6.1474e-04 - val_loss: 2.2745e-04\n",
      "Epoch 28/100\n",
      "132/132 [==============================] - 5s 39ms/step - loss: 5.9606e-04 - val_loss: 1.1366e-04\n",
      "Epoch 29/100\n",
      "132/132 [==============================] - 5s 39ms/step - loss: 6.9692e-04 - val_loss: 1.2088e-04\n",
      "Epoch 30/100\n",
      "132/132 [==============================] - 5s 40ms/step - loss: 5.4000e-04 - val_loss: 1.0968e-04\n",
      "Epoch 31/100\n",
      "132/132 [==============================] - 5s 39ms/step - loss: 7.0544e-04 - val_loss: 1.4024e-04\n",
      "Epoch 32/100\n",
      "132/132 [==============================] - 5s 38ms/step - loss: 7.2119e-04 - val_loss: 1.0475e-04\n",
      "Epoch 33/100\n",
      "132/132 [==============================] - 5s 37ms/step - loss: 6.3048e-04 - val_loss: 1.1163e-04\n",
      "Epoch 34/100\n",
      "132/132 [==============================] - 6s 42ms/step - loss: 6.3369e-04 - val_loss: 1.0578e-04\n",
      "Epoch 35/100\n",
      "132/132 [==============================] - 5s 39ms/step - loss: 5.8500e-04 - val_loss: 3.4389e-04\n",
      "Epoch 36/100\n",
      "132/132 [==============================] - 5s 40ms/step - loss: 5.8018e-04 - val_loss: 1.7874e-04\n",
      "Epoch 37/100\n",
      "132/132 [==============================] - 5s 38ms/step - loss: 6.9478e-04 - val_loss: 2.7306e-04\n",
      "Epoch 38/100\n",
      "132/132 [==============================] - 5s 39ms/step - loss: 5.5439e-04 - val_loss: 1.5368e-04\n",
      "Epoch 39/100\n",
      "132/132 [==============================] - 5s 38ms/step - loss: 6.1065e-04 - val_loss: 1.2657e-04\n",
      "Epoch 40/100\n",
      "132/132 [==============================] - 5s 38ms/step - loss: 5.9495e-04 - val_loss: 2.5217e-04\n",
      "Epoch 41/100\n",
      "132/132 [==============================] - 5s 39ms/step - loss: 5.6386e-04 - val_loss: 1.2189e-04\n",
      "Epoch 42/100\n",
      "132/132 [==============================] - 5s 40ms/step - loss: 6.9585e-04 - val_loss: 2.7720e-04\n",
      "Epoch 43/100\n",
      "132/132 [==============================] - 5s 41ms/step - loss: 5.3080e-04 - val_loss: 1.3999e-04\n",
      "Epoch 44/100\n",
      "132/132 [==============================] - 6s 42ms/step - loss: 5.3358e-04 - val_loss: 1.0193e-04\n",
      "Epoch 45/100\n",
      "132/132 [==============================] - 5s 41ms/step - loss: 5.7501e-04 - val_loss: 1.3263e-04\n",
      "Epoch 46/100\n",
      "132/132 [==============================] - 5s 40ms/step - loss: 5.7780e-04 - val_loss: 1.0360e-04\n",
      "Epoch 47/100\n",
      "132/132 [==============================] - 5s 40ms/step - loss: 5.4441e-04 - val_loss: 1.2234e-04\n",
      "Epoch 48/100\n",
      "132/132 [==============================] - 7s 51ms/step - loss: 5.1883e-04 - val_loss: 1.6998e-04\n",
      "Epoch 49/100\n",
      "132/132 [==============================] - 6s 47ms/step - loss: 4.9698e-04 - val_loss: 9.9136e-05\n",
      "Epoch 50/100\n",
      "132/132 [==============================] - 6s 48ms/step - loss: 6.4638e-04 - val_loss: 1.8470e-04\n",
      "Epoch 51/100\n",
      "132/132 [==============================] - 7s 50ms/step - loss: 6.2106e-04 - val_loss: 1.5114e-04\n",
      "Epoch 52/100\n",
      "132/132 [==============================] - 6s 42ms/step - loss: 6.5437e-04 - val_loss: 1.1411e-04\n",
      "Epoch 53/100\n",
      "132/132 [==============================] - 6s 46ms/step - loss: 5.4413e-04 - val_loss: 1.5408e-04\n",
      "Epoch 54/100\n",
      "132/132 [==============================] - 6s 47ms/step - loss: 5.4132e-04 - val_loss: 1.2954e-04\n",
      "Epoch 55/100\n",
      "132/132 [==============================] - 6s 42ms/step - loss: 5.3971e-04 - val_loss: 1.3401e-04\n",
      "Epoch 56/100\n",
      "132/132 [==============================] - 5s 39ms/step - loss: 6.4872e-04 - val_loss: 1.6357e-04\n",
      "Epoch 57/100\n",
      "132/132 [==============================] - 5s 41ms/step - loss: 6.1250e-04 - val_loss: 9.7579e-05\n",
      "Epoch 58/100\n",
      "132/132 [==============================] - 5s 38ms/step - loss: 5.1688e-04 - val_loss: 1.3681e-04\n",
      "Epoch 59/100\n",
      "132/132 [==============================] - 5s 41ms/step - loss: 5.2888e-04 - val_loss: 1.0291e-04\n",
      "Epoch 60/100\n",
      "132/132 [==============================] - 5s 38ms/step - loss: 6.6325e-04 - val_loss: 1.1583e-04\n",
      "Epoch 61/100\n",
      "132/132 [==============================] - 5s 37ms/step - loss: 6.0076e-04 - val_loss: 1.6738e-04\n",
      "Epoch 62/100\n",
      "132/132 [==============================] - 6s 43ms/step - loss: 5.5986e-04 - val_loss: 1.5463e-04\n",
      "Epoch 63/100\n",
      "132/132 [==============================] - 5s 40ms/step - loss: 5.7780e-04 - val_loss: 1.2396e-04\n",
      "Epoch 64/100\n",
      "132/132 [==============================] - 6s 47ms/step - loss: 5.4484e-04 - val_loss: 3.1624e-04\n",
      "Epoch 65/100\n",
      "132/132 [==============================] - 5s 39ms/step - loss: 5.8678e-04 - val_loss: 1.0908e-04\n",
      "Epoch 66/100\n",
      "132/132 [==============================] - 5s 40ms/step - loss: 6.1307e-04 - val_loss: 3.6265e-04\n",
      "Epoch 67/100\n",
      "132/132 [==============================] - 5s 39ms/step - loss: 4.9470e-04 - val_loss: 2.4563e-04\n",
      "Epoch 68/100\n",
      "132/132 [==============================] - 5s 38ms/step - loss: 5.3790e-04 - val_loss: 1.5195e-04\n",
      "Epoch 69/100\n",
      "132/132 [==============================] - 5s 38ms/step - loss: 5.8141e-04 - val_loss: 1.3697e-04\n",
      "Epoch 70/100\n",
      "132/132 [==============================] - 6s 42ms/step - loss: 5.2833e-04 - val_loss: 1.7049e-04\n",
      "Epoch 71/100\n",
      "132/132 [==============================] - 5s 39ms/step - loss: 5.3513e-04 - val_loss: 1.0666e-04\n",
      "Epoch 72/100\n",
      "132/132 [==============================] - 5s 39ms/step - loss: 6.2838e-04 - val_loss: 1.4168e-04\n",
      "9/9 [==============================] - 2s 22ms/step\n",
      "Root Mean Squared Error (Testing Dataset): 674.4280097800698\n"
     ]
    }
   ],
   "source": [
    "print(f\"Training model with epochs={epochs}, batch_size={batch_size}, sequence_length={sequence_length}, units={units}, layers={layers}\")\n",
    "X_train, X_test, y_train, y_test, scaler = prepare_data(df, sequence_length)\n",
    "model = build_lstm_model(X_train, units=units, layers=layers)\n",
    "model, rmse = train_model_and_evaluate_model(model, X_train, y_train, X_test, y_test, scaler, epochs, batch_size, sequence_length, units, layers)"
   ]
  },
  {
   "cell_type": "code",
   "execution_count": 56,
   "id": "014ad93b-239a-4747-9ef7-97a5ffbb6678",
   "metadata": {
    "tags": []
   },
   "outputs": [
    {
     "name": "stdout",
     "output_type": "stream",
     "text": [
      "9/9 [==============================] - 0s 22ms/step\n"
     ]
    }
   ],
   "source": [
    "y_pred = model.predict(X_test)"
   ]
  },
  {
   "cell_type": "code",
   "execution_count": 57,
   "id": "e5a3fca5-efac-4d31-a364-a2e529260864",
   "metadata": {
    "tags": []
   },
   "outputs": [],
   "source": [
    "y_pred = y_pred.reshape(1,-1)\n",
    "y_pred_scaled = scaler.inverse_transform(y_pred)\n",
    "y_test = y_test.reshape(1,-1)\n",
    "y_test_scaled = scaler.inverse_transform(y_test)"
   ]
  },
  {
   "cell_type": "code",
   "execution_count": 58,
   "id": "f725671c-dca9-4794-be62-db984a2a1e2e",
   "metadata": {
    "tags": []
   },
   "outputs": [],
   "source": [
    "def calculate_mape(y_true, y_pred):\n",
    "    return np.mean(np.abs((y_true - y_pred) / y_true)) * 100\n"
   ]
  },
  {
   "cell_type": "code",
   "execution_count": 59,
   "id": "b0e2cf9a-7aa5-420c-9b82-e193e6ea358a",
   "metadata": {
    "tags": []
   },
   "outputs": [
    {
     "data": {
      "text/plain": [
       "1.565674097823793"
      ]
     },
     "execution_count": 59,
     "metadata": {},
     "output_type": "execute_result"
    }
   ],
   "source": [
    "calculate_mape(y_test_scaled, y_pred_scaled)"
   ]
  },
  {
   "cell_type": "code",
   "execution_count": 60,
   "id": "13780001-50d2-4564-9087-7e7a2b7844dc",
   "metadata": {
    "tags": []
   },
   "outputs": [],
   "source": [
    "import joblib"
   ]
  },
  {
   "cell_type": "code",
   "execution_count": 61,
   "id": "c31c8286-325d-4d25-a61c-9b5406b2dff6",
   "metadata": {
    "tags": []
   },
   "outputs": [
    {
     "data": {
      "text/plain": [
       "['Bitcoin_model_lstm.pkl']"
      ]
     },
     "execution_count": 61,
     "metadata": {},
     "output_type": "execute_result"
    }
   ],
   "source": [
    "joblib.dump(model, \"Bitcoin_model_lstm.pkl\")"
   ]
  },
  {
   "cell_type": "code",
   "execution_count": null,
   "id": "98cd8860-4765-4d06-a0b2-aa4efb4d9944",
   "metadata": {},
   "outputs": [],
   "source": []
  }
 ],
 "metadata": {
  "kernelspec": {
   "display_name": "Python 3 (ipykernel)",
   "language": "python",
   "name": "python3"
  },
  "language_info": {
   "codemirror_mode": {
    "name": "ipython",
    "version": 3
   },
   "file_extension": ".py",
   "mimetype": "text/x-python",
   "name": "python",
   "nbconvert_exporter": "python",
   "pygments_lexer": "ipython3",
   "version": "3.11.0"
  }
 },
 "nbformat": 4,
 "nbformat_minor": 5
}
